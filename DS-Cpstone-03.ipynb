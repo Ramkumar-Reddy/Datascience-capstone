{
 "cells": [
  {
   "cell_type": "markdown",
   "metadata": {},
   "source": [
    "### Import Libraries\n"
   ]
  },
  {
   "cell_type": "code",
   "execution_count": 1,
   "metadata": {},
   "outputs": [],
   "source": [
    "import pandas as pd \n",
    "import numpy as np\n",
    "from bs4 import BeautifulSoup\n",
    "import requests"
   ]
  },
  {
   "cell_type": "markdown",
   "metadata": {},
   "source": [
    "### Assign web site adress to a variable\n",
    "### use request and Beautiful Soup libraries to get text"
   ]
  },
  {
   "cell_type": "code",
   "execution_count": 2,
   "metadata": {},
   "outputs": [],
   "source": [
    "url = 'https://en.wikipedia.org/wiki/List_of_postal_codes_of_Canada:_M'\n",
    "page = requests.get(url).text\n",
    "soup = BeautifulSoup(page,'xml')"
   ]
  },
  {
   "cell_type": "code",
   "execution_count": 3,
   "metadata": {},
   "outputs": [],
   "source": [
    "table = soup.find('table')\n"
   ]
  },
  {
   "cell_type": "markdown",
   "metadata": {},
   "source": [
    "### Create Lists for each columns"
   ]
  },
  {
   "cell_type": "code",
   "execution_count": 4,
   "metadata": {},
   "outputs": [],
   "source": [
    "postcode = []\n",
    "borough = []\n",
    "neighbourhood = []"
   ]
  },
  {
   "cell_type": "markdown",
   "metadata": {},
   "source": [
    "### use for-loop to pick values from the text and asign to the list"
   ]
  },
  {
   "cell_type": "code",
   "execution_count": 5,
   "metadata": {},
   "outputs": [],
   "source": [
    "for tr_cell in table.find_all('tr'):\n",
    "    counter = 1\n",
    "    postcode_var = -1\n",
    "    borough_var = -1\n",
    "    neighbourhood_var = -1\n",
    "    for td_cell in tr_cell.find_all('td'):\n",
    "        if counter == 1:\n",
    "            postcode_var = td_cell.text\n",
    "        if counter == 2:\n",
    "            borough_var = td_cell.text\n",
    "            tag_a_barough = td_cell.find('a')\n",
    "        if counter == 3:\n",
    "            neighbourhood_var = str(td_cell.text).strip()\n",
    "            tag_a_neighbourhood = td_cell.find('a')\n",
    "        counter +=1\n",
    "        if (postcode_var == 'Not assigned' or borough_var == 'Not assigned' or neighbourhood_var == 'Not assigned'):\n",
    "            continue\n",
    "    try:\n",
    "        if ((tag_a_barough is None)) or (tag_a_neighbourhood is None):\n",
    "            continue\n",
    "    except:\n",
    "        pass\n",
    "    if(postcode_var == -1 or borough_var == -1 or neighbourhood_var == -1):\n",
    "        continue\n",
    "    \n",
    "    postcode.append(postcode_var)\n",
    "    borough.append(borough_var)\n",
    "    neighbourhood.append(neighbourhood_var)\n",
    "\n"
   ]
  },
  {
   "cell_type": "code",
   "execution_count": 6,
   "metadata": {},
   "outputs": [],
   "source": [
    "unique_code = set(postcode)\n",
    "postcode_u = []\n",
    "borough_u = []\n",
    "neighbourhood_u = []\n",
    "\n",
    "for pc_u in unique_code:\n",
    "    p = ''; b = ''; n='';\n",
    "    for postcode_idx, postcode_element in enumerate(postcode):\n",
    "        if pc_u == postcode_element:\n",
    "            p = postcode_element;\n",
    "            b = borough[postcode_idx]\n",
    "            if n == '':\n",
    "                n = neighbourhood[postcode_idx]\n",
    "            else:\n",
    "                n = n + ', ' + neighbourhood[postcode_idx]\n",
    "    postcode_u.append(p)\n",
    "    borough_u.append(b)\n",
    "    neighbourhood_u.append(n)"
   ]
  },
  {
   "cell_type": "markdown",
   "metadata": {},
   "source": [
    "### Create a table adding all columns together "
   ]
  },
  {
   "cell_type": "code",
   "execution_count": 7,
   "metadata": {},
   "outputs": [],
   "source": [
    "toronto = {'postcode':postcode_u,'borough':borough_u,'neighbourhood':neighbourhood_u}\n",
    "df_canada = pd.DataFrame.from_dict(toronto)\n"
   ]
  },
  {
   "cell_type": "code",
   "execution_count": 8,
   "metadata": {},
   "outputs": [
    {
     "data": {
      "text/html": [
       "<div>\n",
       "<style scoped>\n",
       "    .dataframe tbody tr th:only-of-type {\n",
       "        vertical-align: middle;\n",
       "    }\n",
       "\n",
       "    .dataframe tbody tr th {\n",
       "        vertical-align: top;\n",
       "    }\n",
       "\n",
       "    .dataframe thead th {\n",
       "        text-align: right;\n",
       "    }\n",
       "</style>\n",
       "<table border=\"1\" class=\"dataframe\">\n",
       "  <thead>\n",
       "    <tr style=\"text-align: right;\">\n",
       "      <th></th>\n",
       "      <th>postcode</th>\n",
       "      <th>borough</th>\n",
       "      <th>neighbourhood</th>\n",
       "    </tr>\n",
       "  </thead>\n",
       "  <tbody>\n",
       "    <tr>\n",
       "      <th>0</th>\n",
       "      <td>M6S</td>\n",
       "      <td>West Toronto</td>\n",
       "      <td>Runnymede, Swansea</td>\n",
       "    </tr>\n",
       "    <tr>\n",
       "      <th>1</th>\n",
       "      <td>M4Y</td>\n",
       "      <td>Downtown Toronto</td>\n",
       "      <td>Church and Wellesley</td>\n",
       "    </tr>\n",
       "    <tr>\n",
       "      <th>2</th>\n",
       "      <td>M5R</td>\n",
       "      <td>Central Toronto</td>\n",
       "      <td>The Annex, Yorkville</td>\n",
       "    </tr>\n",
       "    <tr>\n",
       "      <th>3</th>\n",
       "      <td>M4V</td>\n",
       "      <td>Central Toronto</td>\n",
       "      <td>Deer Park, Rathnelly, South Hill</td>\n",
       "    </tr>\n",
       "    <tr>\n",
       "      <th>4</th>\n",
       "      <td>M5T</td>\n",
       "      <td>Downtown Toronto</td>\n",
       "      <td>Chinatown, Grange Park, Kensington Market</td>\n",
       "    </tr>\n",
       "    <tr>\n",
       "      <th>5</th>\n",
       "      <td>M9R</td>\n",
       "      <td>Etobicoke</td>\n",
       "      <td>Kingsview Village</td>\n",
       "    </tr>\n",
       "    <tr>\n",
       "      <th>6</th>\n",
       "      <td>M2L</td>\n",
       "      <td>North York</td>\n",
       "      <td>York Mills</td>\n",
       "    </tr>\n",
       "    <tr>\n",
       "      <th>7</th>\n",
       "      <td>M1V</td>\n",
       "      <td>Scarborough</td>\n",
       "      <td>Agincourt North, Milliken</td>\n",
       "    </tr>\n",
       "    <tr>\n",
       "      <th>8</th>\n",
       "      <td>M5L</td>\n",
       "      <td>Downtown Toronto</td>\n",
       "      <td>Commerce Court</td>\n",
       "    </tr>\n",
       "    <tr>\n",
       "      <th>9</th>\n",
       "      <td>M1K</td>\n",
       "      <td>Scarborough</td>\n",
       "      <td>Ionview, Kennedy Park</td>\n",
       "    </tr>\n",
       "  </tbody>\n",
       "</table>\n",
       "</div>"
      ],
      "text/plain": [
       "  postcode           borough                              neighbourhood\n",
       "0      M6S      West Toronto                         Runnymede, Swansea\n",
       "1      M4Y  Downtown Toronto                       Church and Wellesley\n",
       "2      M5R   Central Toronto                       The Annex, Yorkville\n",
       "3      M4V   Central Toronto           Deer Park, Rathnelly, South Hill\n",
       "4      M5T  Downtown Toronto  Chinatown, Grange Park, Kensington Market\n",
       "5      M9R         Etobicoke                          Kingsview Village\n",
       "6      M2L        North York                                 York Mills\n",
       "7      M1V       Scarborough                  Agincourt North, Milliken\n",
       "8      M5L  Downtown Toronto                             Commerce Court\n",
       "9      M1K       Scarborough                      Ionview, Kennedy Park"
      ]
     },
     "execution_count": 8,
     "metadata": {},
     "output_type": "execute_result"
    }
   ],
   "source": [
    "df_canada.head(10)"
   ]
  },
  {
   "cell_type": "markdown",
   "metadata": {},
   "source": [
    "### Get coordinates from the .csv file "
   ]
  },
  {
   "cell_type": "code",
   "execution_count": 9,
   "metadata": {},
   "outputs": [],
   "source": [
    "df_coord = pd.read_csv('./Geospatial_Coordinates.csv')"
   ]
  },
  {
   "cell_type": "code",
   "execution_count": 10,
   "metadata": {},
   "outputs": [
    {
     "data": {
      "text/html": [
       "<div>\n",
       "<style scoped>\n",
       "    .dataframe tbody tr th:only-of-type {\n",
       "        vertical-align: middle;\n",
       "    }\n",
       "\n",
       "    .dataframe tbody tr th {\n",
       "        vertical-align: top;\n",
       "    }\n",
       "\n",
       "    .dataframe thead th {\n",
       "        text-align: right;\n",
       "    }\n",
       "</style>\n",
       "<table border=\"1\" class=\"dataframe\">\n",
       "  <thead>\n",
       "    <tr style=\"text-align: right;\">\n",
       "      <th></th>\n",
       "      <th>Postal Code</th>\n",
       "      <th>Latitude</th>\n",
       "      <th>Longitude</th>\n",
       "    </tr>\n",
       "  </thead>\n",
       "  <tbody>\n",
       "    <tr>\n",
       "      <th>0</th>\n",
       "      <td>M1B</td>\n",
       "      <td>43.806686</td>\n",
       "      <td>-79.194353</td>\n",
       "    </tr>\n",
       "    <tr>\n",
       "      <th>1</th>\n",
       "      <td>M1C</td>\n",
       "      <td>43.784535</td>\n",
       "      <td>-79.160497</td>\n",
       "    </tr>\n",
       "    <tr>\n",
       "      <th>2</th>\n",
       "      <td>M1E</td>\n",
       "      <td>43.763573</td>\n",
       "      <td>-79.188711</td>\n",
       "    </tr>\n",
       "    <tr>\n",
       "      <th>3</th>\n",
       "      <td>M1G</td>\n",
       "      <td>43.770992</td>\n",
       "      <td>-79.216917</td>\n",
       "    </tr>\n",
       "    <tr>\n",
       "      <th>4</th>\n",
       "      <td>M1H</td>\n",
       "      <td>43.773136</td>\n",
       "      <td>-79.239476</td>\n",
       "    </tr>\n",
       "  </tbody>\n",
       "</table>\n",
       "</div>"
      ],
      "text/plain": [
       "  Postal Code   Latitude  Longitude\n",
       "0         M1B  43.806686 -79.194353\n",
       "1         M1C  43.784535 -79.160497\n",
       "2         M1E  43.763573 -79.188711\n",
       "3         M1G  43.770992 -79.216917\n",
       "4         M1H  43.773136 -79.239476"
      ]
     },
     "execution_count": 10,
     "metadata": {},
     "output_type": "execute_result"
    }
   ],
   "source": [
    "df_coord.head(5)"
   ]
  },
  {
   "cell_type": "code",
   "execution_count": 11,
   "metadata": {},
   "outputs": [],
   "source": [
    "df_loc = df_coord.rename(columns={\"Postal Code\": \"postcode\"})"
   ]
  },
  {
   "cell_type": "code",
   "execution_count": 12,
   "metadata": {},
   "outputs": [
    {
     "data": {
      "text/html": [
       "<div>\n",
       "<style scoped>\n",
       "    .dataframe tbody tr th:only-of-type {\n",
       "        vertical-align: middle;\n",
       "    }\n",
       "\n",
       "    .dataframe tbody tr th {\n",
       "        vertical-align: top;\n",
       "    }\n",
       "\n",
       "    .dataframe thead th {\n",
       "        text-align: right;\n",
       "    }\n",
       "</style>\n",
       "<table border=\"1\" class=\"dataframe\">\n",
       "  <thead>\n",
       "    <tr style=\"text-align: right;\">\n",
       "      <th></th>\n",
       "      <th>postcode</th>\n",
       "      <th>Latitude</th>\n",
       "      <th>Longitude</th>\n",
       "    </tr>\n",
       "  </thead>\n",
       "  <tbody>\n",
       "    <tr>\n",
       "      <th>0</th>\n",
       "      <td>M1B</td>\n",
       "      <td>43.806686</td>\n",
       "      <td>-79.194353</td>\n",
       "    </tr>\n",
       "    <tr>\n",
       "      <th>1</th>\n",
       "      <td>M1C</td>\n",
       "      <td>43.784535</td>\n",
       "      <td>-79.160497</td>\n",
       "    </tr>\n",
       "    <tr>\n",
       "      <th>2</th>\n",
       "      <td>M1E</td>\n",
       "      <td>43.763573</td>\n",
       "      <td>-79.188711</td>\n",
       "    </tr>\n",
       "    <tr>\n",
       "      <th>3</th>\n",
       "      <td>M1G</td>\n",
       "      <td>43.770992</td>\n",
       "      <td>-79.216917</td>\n",
       "    </tr>\n",
       "    <tr>\n",
       "      <th>4</th>\n",
       "      <td>M1H</td>\n",
       "      <td>43.773136</td>\n",
       "      <td>-79.239476</td>\n",
       "    </tr>\n",
       "  </tbody>\n",
       "</table>\n",
       "</div>"
      ],
      "text/plain": [
       "  postcode   Latitude  Longitude\n",
       "0      M1B  43.806686 -79.194353\n",
       "1      M1C  43.784535 -79.160497\n",
       "2      M1E  43.763573 -79.188711\n",
       "3      M1G  43.770992 -79.216917\n",
       "4      M1H  43.773136 -79.239476"
      ]
     },
     "execution_count": 12,
     "metadata": {},
     "output_type": "execute_result"
    }
   ],
   "source": [
    "df_loc.head(5)"
   ]
  },
  {
   "cell_type": "code",
   "execution_count": 13,
   "metadata": {},
   "outputs": [
    {
     "data": {
      "text/html": [
       "<div>\n",
       "<style scoped>\n",
       "    .dataframe tbody tr th:only-of-type {\n",
       "        vertical-align: middle;\n",
       "    }\n",
       "\n",
       "    .dataframe tbody tr th {\n",
       "        vertical-align: top;\n",
       "    }\n",
       "\n",
       "    .dataframe thead th {\n",
       "        text-align: right;\n",
       "    }\n",
       "</style>\n",
       "<table border=\"1\" class=\"dataframe\">\n",
       "  <thead>\n",
       "    <tr style=\"text-align: right;\">\n",
       "      <th></th>\n",
       "      <th>postcode</th>\n",
       "      <th>borough</th>\n",
       "      <th>neighbourhood</th>\n",
       "    </tr>\n",
       "  </thead>\n",
       "  <tbody>\n",
       "    <tr>\n",
       "      <th>0</th>\n",
       "      <td>M6S</td>\n",
       "      <td>West Toronto</td>\n",
       "      <td>Runnymede, Swansea</td>\n",
       "    </tr>\n",
       "    <tr>\n",
       "      <th>1</th>\n",
       "      <td>M4Y</td>\n",
       "      <td>Downtown Toronto</td>\n",
       "      <td>Church and Wellesley</td>\n",
       "    </tr>\n",
       "    <tr>\n",
       "      <th>2</th>\n",
       "      <td>M5R</td>\n",
       "      <td>Central Toronto</td>\n",
       "      <td>The Annex, Yorkville</td>\n",
       "    </tr>\n",
       "    <tr>\n",
       "      <th>3</th>\n",
       "      <td>M4V</td>\n",
       "      <td>Central Toronto</td>\n",
       "      <td>Deer Park, Rathnelly, South Hill</td>\n",
       "    </tr>\n",
       "    <tr>\n",
       "      <th>4</th>\n",
       "      <td>M5T</td>\n",
       "      <td>Downtown Toronto</td>\n",
       "      <td>Chinatown, Grange Park, Kensington Market</td>\n",
       "    </tr>\n",
       "  </tbody>\n",
       "</table>\n",
       "</div>"
      ],
      "text/plain": [
       "  postcode           borough                              neighbourhood\n",
       "0      M6S      West Toronto                         Runnymede, Swansea\n",
       "1      M4Y  Downtown Toronto                       Church and Wellesley\n",
       "2      M5R   Central Toronto                       The Annex, Yorkville\n",
       "3      M4V   Central Toronto           Deer Park, Rathnelly, South Hill\n",
       "4      M5T  Downtown Toronto  Chinatown, Grange Park, Kensington Market"
      ]
     },
     "execution_count": 13,
     "metadata": {},
     "output_type": "execute_result"
    }
   ],
   "source": [
    "df_canada.head(5)"
   ]
  },
  {
   "cell_type": "markdown",
   "metadata": {},
   "source": [
    "### Combine coordinates to the correspondong postcodes"
   ]
  },
  {
   "cell_type": "code",
   "execution_count": 14,
   "metadata": {},
   "outputs": [],
   "source": [
    "result = pd.merge(df_canada, df_loc, on='postcode')"
   ]
  },
  {
   "cell_type": "code",
   "execution_count": 15,
   "metadata": {},
   "outputs": [
    {
     "data": {
      "text/html": [
       "<div>\n",
       "<style scoped>\n",
       "    .dataframe tbody tr th:only-of-type {\n",
       "        vertical-align: middle;\n",
       "    }\n",
       "\n",
       "    .dataframe tbody tr th {\n",
       "        vertical-align: top;\n",
       "    }\n",
       "\n",
       "    .dataframe thead th {\n",
       "        text-align: right;\n",
       "    }\n",
       "</style>\n",
       "<table border=\"1\" class=\"dataframe\">\n",
       "  <thead>\n",
       "    <tr style=\"text-align: right;\">\n",
       "      <th></th>\n",
       "      <th>postcode</th>\n",
       "      <th>borough</th>\n",
       "      <th>neighbourhood</th>\n",
       "      <th>Latitude</th>\n",
       "      <th>Longitude</th>\n",
       "    </tr>\n",
       "  </thead>\n",
       "  <tbody>\n",
       "    <tr>\n",
       "      <th>0</th>\n",
       "      <td>M6S</td>\n",
       "      <td>West Toronto</td>\n",
       "      <td>Runnymede, Swansea</td>\n",
       "      <td>43.651571</td>\n",
       "      <td>-79.484450</td>\n",
       "    </tr>\n",
       "    <tr>\n",
       "      <th>1</th>\n",
       "      <td>M4Y</td>\n",
       "      <td>Downtown Toronto</td>\n",
       "      <td>Church and Wellesley</td>\n",
       "      <td>43.665860</td>\n",
       "      <td>-79.383160</td>\n",
       "    </tr>\n",
       "    <tr>\n",
       "      <th>2</th>\n",
       "      <td>M5R</td>\n",
       "      <td>Central Toronto</td>\n",
       "      <td>The Annex, Yorkville</td>\n",
       "      <td>43.672710</td>\n",
       "      <td>-79.405678</td>\n",
       "    </tr>\n",
       "    <tr>\n",
       "      <th>3</th>\n",
       "      <td>M4V</td>\n",
       "      <td>Central Toronto</td>\n",
       "      <td>Deer Park, Rathnelly, South Hill</td>\n",
       "      <td>43.686412</td>\n",
       "      <td>-79.400049</td>\n",
       "    </tr>\n",
       "    <tr>\n",
       "      <th>4</th>\n",
       "      <td>M5T</td>\n",
       "      <td>Downtown Toronto</td>\n",
       "      <td>Chinatown, Grange Park, Kensington Market</td>\n",
       "      <td>43.653206</td>\n",
       "      <td>-79.400049</td>\n",
       "    </tr>\n",
       "  </tbody>\n",
       "</table>\n",
       "</div>"
      ],
      "text/plain": [
       "  postcode           borough                              neighbourhood  \\\n",
       "0      M6S      West Toronto                         Runnymede, Swansea   \n",
       "1      M4Y  Downtown Toronto                       Church and Wellesley   \n",
       "2      M5R   Central Toronto                       The Annex, Yorkville   \n",
       "3      M4V   Central Toronto           Deer Park, Rathnelly, South Hill   \n",
       "4      M5T  Downtown Toronto  Chinatown, Grange Park, Kensington Market   \n",
       "\n",
       "    Latitude  Longitude  \n",
       "0  43.651571 -79.484450  \n",
       "1  43.665860 -79.383160  \n",
       "2  43.672710 -79.405678  \n",
       "3  43.686412 -79.400049  \n",
       "4  43.653206 -79.400049  "
      ]
     },
     "execution_count": 15,
     "metadata": {},
     "output_type": "execute_result"
    }
   ],
   "source": [
    "result.head(5)"
   ]
  },
  {
   "cell_type": "markdown",
   "metadata": {},
   "source": [
    "### Use folium to generate map"
   ]
  },
  {
   "cell_type": "code",
   "execution_count": 16,
   "metadata": {},
   "outputs": [],
   "source": [
    "import folium"
   ]
  },
  {
   "cell_type": "code",
   "execution_count": 17,
   "metadata": {},
   "outputs": [],
   "source": [
    "map_Toranto = folium.Map(location=[\"43.6532\", \"-79.3832\"], zoom_start=11)"
   ]
  },
  {
   "cell_type": "code",
   "execution_count": 18,
   "metadata": {},
   "outputs": [],
   "source": [
    "for lat, lng, label in zip(result['Latitude'], result['Longitude'], result['neighbourhood']):\n",
    "    label = folium.Popup(label, parse_html=True)\n",
    "    folium.CircleMarker(\n",
    "        [lat, lng],\n",
    "        radius=5,\n",
    "        popup=label,\n",
    "        color='blue',\n",
    "        fill=True,\n",
    "        fill_color='#3186cc',\n",
    "        fill_opacity=0.7,\n",
    "        parse_html=False).add_to(map_Toranto)  \n",
    "\n"
   ]
  },
  {
   "cell_type": "code",
   "execution_count": 19,
   "metadata": {},
   "outputs": [
    {
     "data": {
      "text/html": [
       "<div style=\"width:100%;\"><div style=\"position:relative;width:100%;height:0;padding-bottom:60%;\"><iframe src=\"data:text/html;charset=utf-8;base64,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\" style=\"position:absolute;width:100%;height:100%;left:0;top:0;border:none !important;\" allowfullscreen webkitallowfullscreen mozallowfullscreen></iframe></div></div>"
      ],
      "text/plain": [
       "<folium.folium.Map at 0x1cdcc56e080>"
      ]
     },
     "execution_count": 19,
     "metadata": {},
     "output_type": "execute_result"
    }
   ],
   "source": [
    "map_Toranto"
   ]
  },
  {
   "cell_type": "code",
   "execution_count": null,
   "metadata": {},
   "outputs": [],
   "source": []
  },
  {
   "cell_type": "code",
   "execution_count": null,
   "metadata": {},
   "outputs": [],
   "source": []
  },
  {
   "cell_type": "code",
   "execution_count": null,
   "metadata": {},
   "outputs": [],
   "source": []
  },
  {
   "cell_type": "code",
   "execution_count": null,
   "metadata": {},
   "outputs": [],
   "source": []
  },
  {
   "cell_type": "code",
   "execution_count": null,
   "metadata": {},
   "outputs": [],
   "source": []
  },
  {
   "cell_type": "code",
   "execution_count": null,
   "metadata": {},
   "outputs": [],
   "source": []
  }
 ],
 "metadata": {
  "kernelspec": {
   "display_name": "Python 3",
   "language": "python",
   "name": "python3"
  },
  "language_info": {
   "codemirror_mode": {
    "name": "ipython",
    "version": 3
   },
   "file_extension": ".py",
   "mimetype": "text/x-python",
   "name": "python",
   "nbconvert_exporter": "python",
   "pygments_lexer": "ipython3",
   "version": "3.7.3"
  }
 },
 "nbformat": 4,
 "nbformat_minor": 2
}
